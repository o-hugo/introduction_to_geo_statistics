{
 "cells": [
  {
   "cell_type": "code",
   "execution_count": 24,
   "metadata": {
    "vscode": {
     "languageId": "r"
    }
   },
   "outputs": [],
   "source": [
    "library(sf)\n",
    "library(rsi)\n",
    "library(terra)\n",
    "library(raster)"
   ]
  },
  {
   "cell_type": "markdown",
   "metadata": {},
   "source": [
    "### Como construir um objeto raster no pacote terra"
   ]
  },
  {
   "cell_type": "code",
   "execution_count": 25,
   "metadata": {
    "vscode": {
     "languageId": "r"
    }
   },
   "outputs": [],
   "source": [
    "raster_t = rast(nrows = 6, ncols= 6, \n",
    "                xmin = -1.5, xmax = 1.5, ymin = -1.5, ymax = 1.5, \n",
    "                vals = runif(36))"
   ]
  },
  {
   "cell_type": "markdown",
   "metadata": {},
   "source": [
    "### Como construir um objeto raster no pacote raster"
   ]
  },
  {
   "cell_type": "code",
   "execution_count": 26,
   "metadata": {
    "vscode": {
     "languageId": "r"
    }
   },
   "outputs": [],
   "source": [
    "raster_r = raster(nrows = 6, ncols = 6, \n",
    "                  xmn = -1.5, xmx = 1.5, ymn = -1.5, ymx = 1.5,\n",
    "                  vals = runif(36), crs = 4326)"
   ]
  },
  {
   "cell_type": "markdown",
   "metadata": {},
   "source": [
    "### Obtendo um objeto raster de uma imagem de satélite landsat usando o pacote rsi.\n",
    "### Obtenção de uma imagem de manaus usando um buffer circular"
   ]
  },
  {
   "cell_type": "code",
   "execution_count": 27,
   "metadata": {
    "vscode": {
     "languageId": "r"
    }
   },
   "outputs": [],
   "source": [
    "manaus = st_point(c(-59.9825, -3.1316)) ##--(lat,long) de manaus\n",
    "manaus = st_sfc(manaus, crs = \"EPSG:4326\") ##--localização de manaus no crs padrão do R--##\n",
    "manaus = st_buffer(st_transform(manaus, crs = \"EPSG:31980\"), 100) ##--criação de um buffer sobre manaus nao crs apropriado"
   ]
  },
  {
   "cell_type": "markdown",
   "metadata": {},
   "source": [
    "### Código para obtenção da imagem usando o pacote rsi"
   ]
  },
  {
   "cell_type": "code",
   "execution_count": null,
   "metadata": {
    "vscode": {
     "languageId": "r"
    }
   },
   "outputs": [],
   "source": [
    "manaus_landsat = get_landsat_imagery(\n",
    "    manaus,\n",
    "    start_date = \"2023-09-01\",\n",
    "    end_date = \"2023-09-30\",\n",
    "    output_filename = tempfile(fileext = \"manaus_landsat01.tif\")\n",
    ")"
   ]
  },
  {
   "cell_type": "markdown",
   "metadata": {},
   "source": [
    "### Fim da obtenção da imagem usando buffer\n",
    "### Obtenção de uma imagem de manaus usando um bbox"
   ]
  },
  {
   "cell_type": "code",
   "execution_count": 9,
   "metadata": {
    "vscode": {
     "languageId": "r"
    }
   },
   "outputs": [
    {
     "data": {
      "text/html": [
       "'bbox'"
      ],
      "text/latex": [
       "'bbox'"
      ],
      "text/markdown": [
       "'bbox'"
      ],
      "text/plain": [
       "[1] \"bbox\""
      ]
     },
     "metadata": {},
     "output_type": "display_data"
    }
   ],
   "source": [
    "manaus <- sf::st_bbox(\n",
    "  c(xmin = 820599.5, ymin = 9649968, xmax = 854014.7, ymax = 9677464),\n",
    "  crs = 31980\n",
    ")\n",
    "class(manaus)"
   ]
  },
  {
   "cell_type": "code",
   "execution_count": 10,
   "metadata": {
    "vscode": {
     "languageId": "r"
    }
   },
   "outputs": [
    {
     "data": {
      "text/html": [
       "<style>\n",
       ".list-inline {list-style: none; margin:0; padding: 0}\n",
       ".list-inline>li {display: inline-block}\n",
       ".list-inline>li:not(:last-child)::after {content: \"\\00b7\"; padding: 0 .5ex}\n",
       "</style>\n",
       "<ol class=list-inline><li>'sf'</li><li>'data.frame'</li></ol>\n"
      ],
      "text/latex": [
       "\\begin{enumerate*}\n",
       "\\item 'sf'\n",
       "\\item 'data.frame'\n",
       "\\end{enumerate*}\n"
      ],
      "text/markdown": [
       "1. 'sf'\n",
       "2. 'data.frame'\n",
       "\n",
       "\n"
      ],
      "text/plain": [
       "[1] \"sf\"         \"data.frame\""
      ]
     },
     "metadata": {},
     "output_type": "display_data"
    }
   ],
   "source": [
    "manaus <- st_as_sf(st_as_sfc(manaus))\n",
    "## manaus <- st_as_sfc(manaus) %>% st_as_sf()\n",
    "class(manaus)"
   ]
  },
  {
   "cell_type": "code",
   "execution_count": 15,
   "metadata": {
    "vscode": {
     "languageId": "r"
    }
   },
   "outputs": [
    {
     "ename": "ERROR",
     "evalue": "Error: HTTP content type response 'text/plain' not defined for this operation.\n",
     "output_type": "error",
     "traceback": [
      "Error: HTTP content type response 'text/plain' not defined for this operation.\nTraceback:\n",
      "1. do.call(get_stac_data, args)",
      "2. (function (aoi, start_date, end_date, pixel_x_size = NULL, pixel_y_size = NULL, \n .     asset_names, stac_source, collection, ..., query_function = rsi_query_api, \n .     download_function = rsi_download_rasters, sign_function = NULL, \n .     rescale_bands = TRUE, item_filter_function = NULL, mask_band = NULL, \n .     mask_function = NULL, output_filename = paste0(proceduralnames::make_english_names(1), \n .         \".tif\"), composite_function = c(\"merge\", \"median\", \"mean\", \n .         \"sum\", \"min\", \"max\"), limit = 999, gdalwarp_options = rsi_gdalwarp_options(), \n .     gdal_config_options = rsi_gdal_config_options()) \n . {\n .     if (!(inherits(aoi, \"sf\") || inherits(aoi, \"sfc\"))) {\n .         rlang::abort(\"`aoi` must be an sf or sfc object.\", class = \"rsi_aoi_not_sf\")\n .     }\n .     aoi_bbox <- sf::st_bbox(aoi)\n .     if (aoi_bbox$xmin == aoi_bbox$xmax | aoi_bbox$ymin == aoi_bbox$ymax) {\n .         rlang::abort(c(\"`aoi` has no extent.\", i = \"This can occur when `aoi` is a single point geometry.\"), \n .             class = \"rsi_aoi_is_point\")\n .     }\n .     if (sf::st_is_longlat(aoi) && !(is.null(pixel_x_size) || \n .         is.null(pixel_y_size)) && all(c(pixel_x_size, pixel_y_size) %in% \n .         c(10, 30))) {\n .         rlang::warn(c(\"The default pixel size arguments are intended for use with projected AOIs, but `aoi` appears to be in geographic coordinates.\", \n .             i = glue::glue(\"Pixel X size: {pixel_x_size}. Pixel Y size: {pixel_y_size}.\"), \n .             i = glue::glue(\"These dimensions will be interpreted in the same units as `aoi` (likely degrees), which may cause errors.\")), \n .             class = \"rsi_default_pixel_size_geographic_coords\")\n .     }\n .     if (!is.null(composite_function)) {\n .         composite_function <- rlang::arg_match(composite_function)\n .     }\n .     if (is.null(mask_function)) {\n .         if (!is.null(mask_band)) {\n .             rlang::warn(c(\"`mask_function` was NULL, but `mask_band` was not `NULL`.\", \n .                 i = \"`mask_band` will be ignored (not downloaded or used).\"), \n .                 class = \"rsi_ignored_mask_band\")\n .         }\n .         mask_band <- NULL\n .     }\n .     check_type_and_length(start_date = character(1), end_date = character(1), \n .         pixel_x_size = numeric(1), pixel_y_size = numeric(1), \n .         stac_source = character(1), collection = character(1), \n .         rescale_bands = logical(1), mask_band = character(1), \n .         output_filename = character(1), composite_function = character(1), \n .         limit = numeric(1), gdalwarp_options = character())\n .     if (is.null(sign_function) && is_pc(stac_source)) {\n .         sign_function <- sign_planetary_computer\n .     }\n .     gdalwarp_options <- process_gdalwarp_options(gdalwarp_options = gdalwarp_options, \n .         aoi = aoi, pixel_x_size = pixel_x_size, pixel_y_size = pixel_y_size)\n .     aoi_bbox <- sf::st_bbox(aoi)\n .     if (!is.null(start_date)) {\n .         start_date <- process_dates(start_date)\n .         end_date <- process_dates(end_date)\n .     }\n .     if (is.null(item_filter_function)) \n .         item_filter_function <- function(x, ...) identity(x)\n .     items <- query_function(bbox = sf::st_bbox(sf::st_transform(aoi, \n .         4326)), stac_source = stac_source, collection = collection, \n .         start_date = start_date, end_date = end_date, limit = limit, \n .         ...)\n .     items <- item_filter_function(items, ...)\n .     if (!length(items$features)) {\n .         rlang::abort(\"No items were found for this combination of collection, AOI, date range, and item filter function.\", \n .             class = \"rsi_no_items_found\")\n .     }\n .     if (missing(asset_names)) \n .         asset_names <- NULL\n .     if (is.null(asset_names)) {\n .         asset_names <- rstac::items_assets(items)\n .         if (length(asset_names) > 1) {\n .             rlang::warn(c(\"`asset_names` was `NULL`, so rsi is attempting to download all assets in items in this collection.\", \n .                 i = \"This includes multiple assets, so rsi is attempting to download all of them using the same download function.\", \n .                 i = \"This might cause errors or not be what you want! Specify `asset_names` to fix this (and to silence this warning).\"), \n .                 class = \"rsi_missing_asset_names\")\n .         }\n .     }\n .     if (is.null(names(asset_names))) \n .         names(asset_names) <- asset_names\n .     items_urls <- extract_urls(asset_names, items)\n .     drop_mask_band <- FALSE\n .     if (!is.null(mask_band) && !(mask_band %in% names(items_urls))) {\n .         items_urls[[mask_band]] <- rstac::assets_url(items, mask_band)\n .         drop_mask_band <- TRUE\n .     }\n .     scale_strings <- character()\n .     if (rescale_bands) {\n .         scale_strings <- calc_scale_strings(names(items_urls), \n .             items)\n .     }\n .     if (length(scale_strings)) {\n .         scale_strings <- stats::setNames(paste(\"function(x) x\", \n .             scale_strings), names(scale_strings))\n .     }\n .     else {\n .         rescale_bands <- FALSE\n .     }\n .     merge_assets <- is.null(mask_function) && !rescale_bands && \n .         !is.null(composite_function) && composite_function == \n .         \"merge\"\n .     download_results <- download_function(items = items, aoi = aoi_bbox, \n .         asset_names = stats::setNames(nm = names(items_urls)), \n .         sign_function = sign_function, merge = merge_assets, \n .         gdalwarp_options = gdalwarp_options, gdal_config_options = gdal_config_options, \n .         ...)\n .     if (!is.null(stats::na.action(download_results))) {\n .         items$features[stats::na.action(download_results)] <- NULL\n .     }\n .     temp_ras_files <- unlist(download_results)\n .     on.exit(file.remove(temp_ras_files), add = TRUE)\n .     if (!is.null(mask_band)) {\n .         download_results <- rsi_apply_masks(download_locations = download_results, \n .             mask_band = mask_band, mask_function = mask_function)\n .     }\n .     download_results <- download_results[names(download_results) %in% \n .         names(asset_names)]\n .     output_vrt <- tempfile(fileext = \".vrt\")\n .     if (is.null(composite_function)) {\n .         output_vrt <- replicate(nrow(download_results), tempfile(fileext = \".vrt\"))\n .         download_results <- apply(download_results, 1, identity, \n .             simplify = FALSE)\n .     }\n .     else if (!merge_assets) {\n .         download_results <- rsi_composite_bands(download_results, \n .             composite_function)\n .     }\n .     else {\n .         download_results <- list(unlist(download_results))\n .     }\n .     if (rescale_bands) {\n .         lapply(download_results, rescale_band, scale_strings)\n .     }\n .     if (drop_mask_band) \n .         items_urls[[mask_band]] <- NULL\n .     mapply(function(in_bands, vrt) {\n .         stack_rasters(in_bands[names(items_urls)], vrt, band_names = remap_band_names(names(items_urls), \n .             asset_names))\n .     }, in_bands = download_results, vrt = output_vrt)\n .     on.exit(file.remove(output_vrt), add = TRUE)\n .     if (is.null(composite_function)) {\n .         app <- tryCatch(rstac::items_datetime(items), error = function(e) NA)\n .         app <- gsub(\":\", \"\", app)\n .         if (any(is.na(app))) \n .             app <- NULL\n .         app <- app %||% as.character(seq_along(download_results))\n .         app <- make.unique(app, sep = \"_\")\n .         output_filename <- paste0(tools::file_path_sans_ext(output_filename), \n .             \"_\", app, \".\", tools::file_ext(output_filename))\n .     }\n .     out <- mapply(function(vrt, out) {\n .         sf::gdal_utils(\"warp\", vrt, out, options = gdalwarp_options)\n .         out\n .     }, vrt = output_vrt, out = output_filename)\n .     as.vector(out)\n . })(aoi = structure(list(x = structure(list(structure(list(structure(c(820599.5, \n . 854014.7, 854014.7, 820599.5, 820599.5, 9649968, 9649968, 9677464, \n . 9677464, 9649968), dim = c(5L, 2L))), class = c(\"XY\", \"POLYGON\", \n . \"sfg\"))), class = c(\"sfc_POLYGON\", \"sfc\"), precision = 0, bbox = structure(c(xmin = 820599.5, \n . ymin = 9649968, xmax = 854014.7, ymax = 9677464), class = \"bbox\"), crs = structure(list(\n .     input = \"EPSG:31980\", wkt = \"PROJCRS[\\\"SIRGAS 2000 / UTM zone 20S\\\",\\n    BASEGEOGCRS[\\\"SIRGAS 2000\\\",\\n        DATUM[\\\"Sistema de Referencia Geocentrico para las AmericaS 2000\\\",\\n            ELLIPSOID[\\\"GRS 1980\\\",6378137,298.257222101,\\n                LENGTHUNIT[\\\"metre\\\",1]]],\\n        PRIMEM[\\\"Greenwich\\\",0,\\n            ANGLEUNIT[\\\"degree\\\",0.0174532925199433]],\\n        ID[\\\"EPSG\\\",4674]],\\n    CONVERSION[\\\"UTM zone 20S\\\",\\n        METHOD[\\\"Transverse Mercator\\\",\\n            ID[\\\"EPSG\\\",9807]],\\n        PARAMETER[\\\"Latitude of natural origin\\\",0,\\n            ANGLEUNIT[\\\"degree\\\",0.0174532925199433],\\n            ID[\\\"EPSG\\\",8801]],\\n        PARAMETER[\\\"Longitude of natural origin\\\",-63,\\n            ANGLEUNIT[\\\"degree\\\",0.0174532925199433],\\n            ID[\\\"EPSG\\\",8802]],\\n        PARAMETER[\\\"Scale factor at natural origin\\\",0.9996,\\n            SCALEUNIT[\\\"unity\\\",1],\\n            ID[\\\"EPSG\\\",8805]],\\n        PARAMETER[\\\"False easting\\\",500000,\\n            LENGTHUNIT[\\\"metre\\\",1],\\n            ID[\\\"EPSG\\\",8806]],\\n        PARAMETER[\\\"False northing\\\",10000000,\\n            LENGTHUNIT[\\\"metre\\\",1],\\n            ID[\\\"EPSG\\\",8807]]],\\n    CS[Cartesian,2],\\n        AXIS[\\\"(E)\\\",east,\\n            ORDER[1],\\n            LENGTHUNIT[\\\"metre\\\",1]],\\n        AXIS[\\\"(N)\\\",north,\\n            ORDER[2],\\n            LENGTHUNIT[\\\"metre\\\",1]],\\n    USAGE[\\n        SCOPE[\\\"Engineering survey, topographic mapping.\\\"],\\n        AREA[\\\"Brazil - between 66°W and 60°W, northern and southern hemispheres. In remainder of South America - between 66°W and 60°W, southern hemisphere, onshore and offshore.\\\"],\\n        BBOX[-58.39,-66,5.28,-60]],\\n    ID[\\\"EPSG\\\",31980]]\"), class = \"crs\"), n_empty = 0L, oriented = TRUE)), row.names = 1L, class = c(\"sf\", \n . \"data.frame\"), sf_column = \"x\", agr = structure(integer(0), class = \"factor\", levels = c(\"constant\", \n . \"aggregate\", \"identity\"), names = character(0))), start_date = \"2024-09-01\", \n .     end_date = \"2024-09-30\", platforms = c(\"landsat-9\", \"landsat-8\"\n .     ), pixel_x_size = 30, pixel_y_size = 30, asset_names = structure(c(coastal = \"A\", \n .     blue = \"B\", green = \"G\", red = \"R\", nir08 = \"N\", swir16 = \"S1\", \n .     swir22 = \"S2\", lwir = \"T\", lwir11 = \"T1\"), mask_band = \"qa_pixel\", mask_function = function (raster, \n .         include = c(\"land\", \"water\", \"both\"), ..., masked_bits) \n .     {\n .         rlang::check_dots_empty()\n .         if (missing(masked_bits)) {\n .             if (missing(include)) \n .                 include <- include[[1]]\n .             include <- rlang::arg_match(include, multiple = TRUE)\n .             masked_bits <- list()\n .             if (any(c(\"land\", \"both\") %in% include)) {\n .                 masked_bits <- c(masked_bits, list(c(0:5, 7, \n .                   9, 11, 13, 15)))\n .             }\n .             if (any(c(\"water\", \"both\") %in% include)) {\n .                 masked_bits <- c(masked_bits, list(c(0:5, 9, \n .                   11, 13, 15)))\n .             }\n .         }\n .         else if (!missing(include)) {\n .             rlang::abort(\"Only one of `include` and `masked_bits` can be specified.\", \n .                 class = \"rsi_masked_bits_and_include\")\n .         }\n .         classes <- vapply(masked_bits, bits_to_int, integer(1), \n .             USE.NAMES = FALSE)\n .         terra::`%in%`(raster, classes)\n .     }, stac_source = \"https://planetarycomputer.microsoft.com/api/stac/v1/\", collection_name = \"landsat-c2-l2\", query_function = function (bbox, \n .         stac_source, collection, start_date, end_date, limit, \n .         ...) \n .     {\n .         if (!is.null(start_date)) {\n .             datetime <- paste0(start_date, \"/\", end_date)\n .         }\n .         else {\n .             datetime <- NULL\n .         }\n .         if (!(inherits(bbox, \"bbox\") | inherits(bbox, \"sfc\"))) {\n .             rlang::abort(\"`bbox` must be either an sfc or a bbox object from the sf package.\", \n .                 class = \"rsi_bbox_wrong_class\")\n .         }\n .         if (!(sf::st_crs(bbox) == sf::st_crs(\"EPSG:4326\"))) {\n .             rlang::warn(\"Reprojecting `bbox` to EPSG:4326.\", \n .                 class = \"rsi_reprojecting_bbox\")\n .             if (inherits(bbox, \"bbox\")) {\n .                 bbox <- sf::st_as_sfc(bbox)\n .             }\n .             bbox <- sf::st_transform(bbox, 4326)\n .         }\n .         if (inherits(bbox, \"sfc\")) \n .             bbox <- sf::st_bbox(bbox)\n .         items <- rstac::stac_search(rstac::stac(stac_source), \n .             collections = collection, bbox = c(bbox[\"xmin\"], \n .                 bbox[\"ymin\"], bbox[\"xmax\"], bbox[\"ymax\"]), datetime = datetime, \n .             limit = limit)\n .         items <- rstac::items_fetch(rstac::get_request(items, \n .             rsi_user_agent), rsi_user_agent)\n .         items\n .     }, download_function = function (items, aoi, asset_names, \n .         sign_function = NULL, merge = FALSE, gdalwarp_options = c(\"-r\", \n .             \"bilinear\", \"-multi\", \"-overwrite\", \"-co\", \"COMPRESS=DEFLATE\", \n .             \"-co\", \"PREDICTOR=2\", \"-co\", \"NUM_THREADS=ALL_CPUS\"), \n .         gdal_config_options = c(VSI_CACHE = \"TRUE\", GDAL_CACHEMAX = \"30%\", \n .             VSI_CACHE_SIZE = \"10000000\", GDAL_HTTP_MULTIPLEX = \"YES\", \n .             GDAL_INGESTED_BYTES_AT_OPEN = \"32000\", GDAL_DISABLE_READDIR_ON_OPEN = \"EMPTY_DIR\", \n .             GDAL_HTTP_VERSION = \"2\", GDAL_HTTP_MERGE_CONSECUTIVE_RANGES = \"YES\", \n .             GDAL_NUM_THREADS = \"ALL_CPUS\", GDAL_HTTP_USERAGENT = \"rsi (https://permian-global-research.github.io/rsi/)\"), \n .         ...) \n .     {\n .         if (!inherits(aoi, \"bbox\")) \n .             aoi <- sf::st_bbox(aoi)\n .         check_type_and_length(merge = logical(1))\n .         n_tiles_out <- ifelse(merge, 1L, length(items$features))\n .         p <- build_progressr(length(names(asset_names)) * n_tiles_out)\n .         download_locations <- data.frame(matrix(data = replicate(length(asset_names) * \n .             n_tiles_out, tempfile(fileext = \".tif\")), ncol = length(asset_names), \n .             nrow = n_tiles_out))\n .         names(download_locations) <- names(asset_names)\n .         if (merge) {\n .             gdalwarp_options <- set_gdalwarp_extent(gdalwarp_options, \n .                 aoi, NULL)\n .         }\n .         asset_iterator <- ifelse(merge || (n_tiles_out < ncol(download_locations)), \n .             function(...) future.apply::future_lapply(..., future.seed = TRUE), \n .             lapply)\n .         current_options <- gdalwarp_options\n .         asset_iterator(names(download_locations), function(asset) {\n .             feature_iter <- seq_len(length(items$features))\n .             if (length(download_locations[[asset]]) == 1) {\n .                 feature_iter <- list(feature_iter)\n .             }\n .             future.apply::future_mapply(function(which_item, \n .                 dl_location) {\n .                 p(glue::glue(\"Downloading {asset}\"))\n .                 signed_items <- maybe_sign_items(items, sign_function)\n .                 url <- rstac::assets_url(signed_items, asset)[which_item]\n .                 if (!merge) {\n .                   item_bbox <- items$features[[which_item]]$bbox\n .                   current_options <- set_gdalwarp_extent(gdalwarp_options, \n .                     aoi, item_bbox)\n .                 }\n .                 tryCatch({\n .                   sf::gdal_utils(\"warp\", paste0(\"/vsicurl/\", \n .                     url), dl_location, options = current_options, \n .                     quiet = TRUE, config_options = gdal_config_options)\n .                 }, error = function(e) {\n .                   if (merge) {\n .                     rlang::abort(glue::glue(\"GDAL warp failed when attempting to merge \", \n .                       \"{length(unlist(feature_iter))} items\"), \n .                       class = \"download_warp_error\", parent = e)\n .                   }\n .                   expr1 <- items$features[[which_item]]$id %||% \n .                     \"UNKNOWN\"\n .                   expr2 <- items$features[[which_item]]$properties$datetime %||% \n .                     \"UNKNOWN\"\n .                   err_msg <- glue::glue(\"Failed to download {expr1} from {expr2}\")\n .                   if (length(feature_iter) == 1) {\n .                     rlang::abort(err_msg, class = \"download_warp_error\", \n .                       parent = e)\n .                   }\n .                   rlang::warn(err_msg, parent = e)\n .                   download_locations[which_item, ] <<- NA\n .                 })\n .             }, which_item = feature_iter, dl_location = download_locations[[asset]], \n .                 future.seed = TRUE)\n .         })\n .         out <- stats::na.omit(download_locations)\n .         na_attr <- stats::na.action(out)\n .         out <- as.data.frame(as.list(out))\n .         attr(out, \"na.action\") <- na_attr\n .         out\n .     }, sign_function = function (items, subscription_key = Sys.getenv(\"rsi_pc_key\")) \n .     {\n .         if (subscription_key == \"\") \n .             subscription_key <- Sys.getenv(\"MPC_TOKEN\")\n .         if (subscription_key == \"\") {\n .             rstac::items_sign(items, rstac::sign_planetary_computer(rsi_user_agent))\n .         }\n .         else {\n .             rstac::items_sign(items, rstac::sign_planetary_computer(rsi_user_agent, \n .                 headers = c(`Ocp-Apim-Subscription-Key` = subscription_key)))\n .         }\n .     }, class = \"rsi_band_mapping\"), stac_source = \"https://planetarycomputer.microsoft.com/api/stac/v1/\", \n .     collection = \"landsat-c2-l2\", query_function = function (bbox, \n .         stac_source, collection, start_date, end_date, limit, \n .         ...) \n .     {\n .         if (!is.null(start_date)) {\n .             datetime <- paste0(start_date, \"/\", end_date)\n .         }\n .         else {\n .             datetime <- NULL\n .         }\n .         if (!(inherits(bbox, \"bbox\") | inherits(bbox, \"sfc\"))) {\n .             rlang::abort(\"`bbox` must be either an sfc or a bbox object from the sf package.\", \n .                 class = \"rsi_bbox_wrong_class\")\n .         }\n .         if (!(sf::st_crs(bbox) == sf::st_crs(\"EPSG:4326\"))) {\n .             rlang::warn(\"Reprojecting `bbox` to EPSG:4326.\", \n .                 class = \"rsi_reprojecting_bbox\")\n .             if (inherits(bbox, \"bbox\")) {\n .                 bbox <- sf::st_as_sfc(bbox)\n .             }\n .             bbox <- sf::st_transform(bbox, 4326)\n .         }\n .         if (inherits(bbox, \"sfc\")) \n .             bbox <- sf::st_bbox(bbox)\n .         items <- rstac::stac_search(rstac::stac(stac_source), \n .             collections = collection, bbox = c(bbox[\"xmin\"], \n .                 bbox[\"ymin\"], bbox[\"xmax\"], bbox[\"ymax\"]), datetime = datetime, \n .             limit = limit)\n .         items <- rstac::items_fetch(rstac::get_request(items, \n .             rsi_user_agent), rsi_user_agent)\n .         items\n .     }, download_function = function (items, aoi, asset_names, \n .         sign_function = NULL, merge = FALSE, gdalwarp_options = c(\"-r\", \n .             \"bilinear\", \"-multi\", \"-overwrite\", \"-co\", \"COMPRESS=DEFLATE\", \n .             \"-co\", \"PREDICTOR=2\", \"-co\", \"NUM_THREADS=ALL_CPUS\"), \n .         gdal_config_options = c(VSI_CACHE = \"TRUE\", GDAL_CACHEMAX = \"30%\", \n .             VSI_CACHE_SIZE = \"10000000\", GDAL_HTTP_MULTIPLEX = \"YES\", \n .             GDAL_INGESTED_BYTES_AT_OPEN = \"32000\", GDAL_DISABLE_READDIR_ON_OPEN = \"EMPTY_DIR\", \n .             GDAL_HTTP_VERSION = \"2\", GDAL_HTTP_MERGE_CONSECUTIVE_RANGES = \"YES\", \n .             GDAL_NUM_THREADS = \"ALL_CPUS\", GDAL_HTTP_USERAGENT = \"rsi (https://permian-global-research.github.io/rsi/)\"), \n .         ...) \n .     {\n .         if (!inherits(aoi, \"bbox\")) \n .             aoi <- sf::st_bbox(aoi)\n .         check_type_and_length(merge = logical(1))\n .         n_tiles_out <- ifelse(merge, 1L, length(items$features))\n .         p <- build_progressr(length(names(asset_names)) * n_tiles_out)\n .         download_locations <- data.frame(matrix(data = replicate(length(asset_names) * \n .             n_tiles_out, tempfile(fileext = \".tif\")), ncol = length(asset_names), \n .             nrow = n_tiles_out))\n .         names(download_locations) <- names(asset_names)\n .         if (merge) {\n .             gdalwarp_options <- set_gdalwarp_extent(gdalwarp_options, \n .                 aoi, NULL)\n .         }\n .         asset_iterator <- ifelse(merge || (n_tiles_out < ncol(download_locations)), \n .             function(...) future.apply::future_lapply(..., future.seed = TRUE), \n .             lapply)\n .         current_options <- gdalwarp_options\n .         asset_iterator(names(download_locations), function(asset) {\n .             feature_iter <- seq_len(length(items$features))\n .             if (length(download_locations[[asset]]) == 1) {\n .                 feature_iter <- list(feature_iter)\n .             }\n .             future.apply::future_mapply(function(which_item, \n .                 dl_location) {\n .                 p(glue::glue(\"Downloading {asset}\"))\n .                 signed_items <- maybe_sign_items(items, sign_function)\n .                 url <- rstac::assets_url(signed_items, asset)[which_item]\n .                 if (!merge) {\n .                   item_bbox <- items$features[[which_item]]$bbox\n .                   current_options <- set_gdalwarp_extent(gdalwarp_options, \n .                     aoi, item_bbox)\n .                 }\n .                 tryCatch({\n .                   sf::gdal_utils(\"warp\", paste0(\"/vsicurl/\", \n .                     url), dl_location, options = current_options, \n .                     quiet = TRUE, config_options = gdal_config_options)\n .                 }, error = function(e) {\n .                   if (merge) {\n .                     rlang::abort(glue::glue(\"GDAL warp failed when attempting to merge \", \n .                       \"{length(unlist(feature_iter))} items\"), \n .                       class = \"download_warp_error\", parent = e)\n .                   }\n .                   expr1 <- items$features[[which_item]]$id %||% \n .                     \"UNKNOWN\"\n .                   expr2 <- items$features[[which_item]]$properties$datetime %||% \n .                     \"UNKNOWN\"\n .                   err_msg <- glue::glue(\"Failed to download {expr1} from {expr2}\")\n .                   if (length(feature_iter) == 1) {\n .                     rlang::abort(err_msg, class = \"download_warp_error\", \n .                       parent = e)\n .                   }\n .                   rlang::warn(err_msg, parent = e)\n .                   download_locations[which_item, ] <<- NA\n .                 })\n .             }, which_item = feature_iter, dl_location = download_locations[[asset]], \n .                 future.seed = TRUE)\n .         })\n .         out <- stats::na.omit(download_locations)\n .         na_attr <- stats::na.action(out)\n .         out <- as.data.frame(as.list(out))\n .         attr(out, \"na.action\") <- na_attr\n .         out\n .     }, sign_function = function (items, subscription_key = Sys.getenv(\"rsi_pc_key\")) \n .     {\n .         if (subscription_key == \"\") \n .             subscription_key <- Sys.getenv(\"MPC_TOKEN\")\n .         if (subscription_key == \"\") {\n .             rstac::items_sign(items, rstac::sign_planetary_computer(rsi_user_agent))\n .         }\n .         else {\n .             rstac::items_sign(items, rstac::sign_planetary_computer(rsi_user_agent, \n .                 headers = c(`Ocp-Apim-Subscription-Key` = subscription_key)))\n .         }\n .     }, rescale_bands = TRUE, item_filter_function = function (items, \n .         platforms) \n .     {\n .         acceptable_platforms <- vapply(items$features, function(x) tryCatch(x$properties$platform %in% \n .             platforms, error = function(e) FALSE), logical(1))\n .         items$features <- items$features[acceptable_platforms]\n .         items\n .     }, mask_band = \"qa_pixel\", mask_function = function (raster, \n .         include = c(\"land\", \"water\", \"both\"), ..., masked_bits) \n .     {\n .         rlang::check_dots_empty()\n .         if (missing(masked_bits)) {\n .             if (missing(include)) \n .                 include <- include[[1]]\n .             include <- rlang::arg_match(include, multiple = TRUE)\n .             masked_bits <- list()\n .             if (any(c(\"land\", \"both\") %in% include)) {\n .                 masked_bits <- c(masked_bits, list(c(0:5, 7, \n .                   9, 11, 13, 15)))\n .             }\n .             if (any(c(\"water\", \"both\") %in% include)) {\n .                 masked_bits <- c(masked_bits, list(c(0:5, 9, \n .                   11, 13, 15)))\n .             }\n .         }\n .         else if (!missing(include)) {\n .             rlang::abort(\"Only one of `include` and `masked_bits` can be specified.\", \n .                 class = \"rsi_masked_bits_and_include\")\n .         }\n .         classes <- vapply(masked_bits, bits_to_int, integer(1), \n .             USE.NAMES = FALSE)\n .         terra::`%in%`(raster, classes)\n .     }, output_filename = \"/tmp/RtmpZ4ZY3A/filebe633535447eimg_002.tif\", \n .     composite_function = \"median\", limit = 999, gdalwarp_options = c(\"-r\", \n .     \"bilinear\", \"-multi\", \"-overwrite\", \"-co\", \"COMPRESS=DEFLATE\", \n .     \"-co\", \"PREDICTOR=2\", \"-co\", \"NUM_THREADS=ALL_CPUS\"), gdal_config_options = c(VSI_CACHE = \"TRUE\", \n .     GDAL_CACHEMAX = \"30%\", VSI_CACHE_SIZE = \"10000000\", GDAL_HTTP_MULTIPLEX = \"YES\", \n .     GDAL_INGESTED_BYTES_AT_OPEN = \"32000\", GDAL_DISABLE_READDIR_ON_OPEN = \"EMPTY_DIR\", \n .     GDAL_HTTP_VERSION = \"2\", GDAL_HTTP_MERGE_CONSECUTIVE_RANGES = \"YES\", \n .     GDAL_NUM_THREADS = \"ALL_CPUS\", GDAL_HTTP_USERAGENT = \"rsi (https://permian-global-research.github.io/rsi/)\"\n .     ))",
      "3. query_function(bbox = sf::st_bbox(sf::st_transform(aoi, 4326)), \n .     stac_source = stac_source, collection = collection, start_date = start_date, \n .     end_date = end_date, limit = limit, ...)",
      "4. rstac::items_fetch(rstac::get_request(items, rsi_user_agent), \n .     rsi_user_agent)",
      "5. rstac::get_request(items, rsi_user_agent)",
      "6. after_response(q, res = res)",
      "7. after_response.search(q, res = res)",
      "8. after_response.items(q, res)",
      "9. content_response_json(res)",
      "10. content_response(res = res, status_codes = \"200\", content_types = \"application/.*json\", \n  .     key_message = c(\"message\", \"description\", \"detail\"))",
      "11. .error(\"HTTP content type response '%s' not defined for this operation.\", \n  .     httr::http_type(res))",
      "12. stop(errorCondition(sprintf(msg, ...), class = class, call = NULL))"
     ]
    }
   ],
   "source": [
    "manaus_landsat <- get_landsat_imagery(\n",
    "  manaus,\n",
    "  start_date = \"2024-09-01\",\n",
    "  end_date = \"2024-09-30\",\n",
    "  output_filename = tempfile(fileext = \"img_002.tif\")\n",
    ")\n",
    "manaus_landsat ## veja onde a imagem foi armazenada no seu computador"
   ]
  },
  {
   "cell_type": "code",
   "execution_count": 17,
   "metadata": {
    "vscode": {
     "languageId": "r"
    }
   },
   "outputs": [
    {
     "name": "stderr",
     "output_type": "stream",
     "text": [
      "\n",
      "Attaching package: ‘rstac’\n",
      "\n",
      "\n",
      "The following object is masked from ‘package:rsi’:\n",
      "\n",
      "    sign_planetary_computer\n",
      "\n",
      "\n"
     ]
    },
    {
     "name": "stdout",
     "output_type": "stream",
     "text": [
      "\u001b[1m###rstac_query\u001b[22m\n",
      "- \u001b[1murl:\u001b[22m https://planetarycomputer.microsoft.com/api/stac/v1/\n",
      "- \u001b[1mparams:\u001b[22m\n",
      "  - collections: landsat-c2-l2\n",
      "  - datetime: 2024-09-01/2024-09-30\n",
      "  - bbox: 820599.5,9649968,854014.7,9677464\n",
      "  - limit: 10\n",
      "- \u001b[1mfield(s):\u001b[22m version, base_url, endpoint, params, verb, encode\n"
     ]
    }
   ],
   "source": [
    "# debug de api, erro de html geralmente é erro de autenticação\n",
    "# Dentro da função download_function ou query_function\n",
    "library(rstac)\n",
    "library(httr)\n",
    "\n",
    "# Define o AOI (Área de Interesse)\n",
    "aoi_bbox <- sf::st_bbox(manaus)\n",
    "\n",
    "# Faz a consulta à API\n",
    "items <- rstac::stac_search(\n",
    "    rstac::stac(\"https://planetarycomputer.microsoft.com/api/stac/v1/\"),\n",
    "    collections = \"landsat-c2-l2\",\n",
    "    bbox = c(aoi_bbox[\"xmin\"], aoi_bbox[\"ymin\"], aoi_bbox[\"xmax\"], aoi_bbox[\"ymax\"]),\n",
    "    datetime = \"2024-09-01/2024-09-30\",\n",
    "    limit = 10\n",
    ")\n",
    "\n",
    "# Verifica o conteúdo da resposta\n",
    "print(items)\n"
   ]
  },
  {
   "cell_type": "code",
   "execution_count": 19,
   "metadata": {
    "vscode": {
     "languageId": "r"
    }
   },
   "outputs": [
    {
     "name": "stderr",
     "output_type": "stream",
     "text": [
      "Warning message:\n",
      "“The default pixel size arguments are intended for use with projected AOIs, but `aoi` appears to be in geographic coordinates.\n",
      "\u001b[34mℹ\u001b[39m Pixel X size: 30. Pixel Y size: 30.\n",
      "\u001b[34mℹ\u001b[39m These dimensions will be interpreted in the same units as `aoi` (likely degrees), which may cause errors.”\n"
     ]
    }
   ],
   "source": [
    "# Primeiro, vamos transformar as coordenadas para WGS84 (EPSG:4326)\n",
    "manaus_wgs84 <- sf::st_transform(manaus, 4326)\n",
    "bbox_wgs84 <- sf::st_bbox(manaus_wgs84)\n",
    "\n",
    "# Agora vamos tentar a consulta novamente\n",
    "manaus_landsat <- get_landsat_imagery(\n",
    "    manaus_wgs84,  # usando o objeto transformado\n",
    "    start_date = \"2024-09-01\",\n",
    "    end_date = \"2024-09-30\",\n",
    "    output_filename = tempfile(fileext = \"003.tif\")\n",
    ")"
   ]
  },
  {
   "cell_type": "markdown",
   "metadata": {},
   "source": [
    "### Veja onde a imagem foi armazenada no seu computador"
   ]
  },
  {
   "cell_type": "code",
   "execution_count": 20,
   "metadata": {
    "vscode": {
     "languageId": "r"
    }
   },
   "outputs": [
    {
     "data": {
      "text/html": [
       "'/tmp/RtmpZ4ZY3A/filebe6359e6ffaf003.tif'"
      ],
      "text/latex": [
       "'/tmp/RtmpZ4ZY3A/filebe6359e6ffaf003.tif'"
      ],
      "text/markdown": [
       "'/tmp/RtmpZ4ZY3A/filebe6359e6ffaf003.tif'"
      ],
      "text/plain": [
       "[1] \"/tmp/RtmpZ4ZY3A/filebe6359e6ffaf003.tif\""
      ]
     },
     "metadata": {},
     "output_type": "display_data"
    }
   ],
   "source": [
    "manaus_landsat"
   ]
  },
  {
   "cell_type": "markdown",
   "metadata": {},
   "source": [
    "### leitura da imagem armazenada no pc"
   ]
  },
  {
   "cell_type": "code",
   "execution_count": 21,
   "metadata": {
    "vscode": {
     "languageId": "r"
    }
   },
   "outputs": [],
   "source": [
    "manaus_landsat <- \"/tmp/RtmpZ4ZY3A/filebe6359e6ffaf003.tif\""
   ]
  },
  {
   "cell_type": "markdown",
   "metadata": {},
   "source": [
    "### explorando a imagem com o pacote raster"
   ]
  },
  {
   "cell_type": "code",
   "execution_count": 22,
   "metadata": {
    "vscode": {
     "languageId": "r"
    }
   },
   "outputs": [
    {
     "data": {
      "text/plain": [
       "class      : RasterLayer \n",
       "band       : 1  (of  8  bands)\n",
       "dimensions : 1, 1, 1  (nrow, ncol, ncell)\n",
       "resolution : 30, 30  (x, y)\n",
       "extent     : -60.11637, -30.11637, -32.91353, -2.913532  (xmin, xmax, ymin, ymax)\n",
       "crs        : +proj=longlat +datum=WGS84 +no_defs \n",
       "source     : filebe6359e6ffaf003.tif \n",
       "names      : A \n"
      ]
     },
     "metadata": {},
     "output_type": "display_data"
    }
   ],
   "source": [
    "manaus_landsat_layer <- raster::raster(manaus_landsat)\n",
    "manaus_landsat_layer\n",
    "manaus_landsat_rast <- raster::brick(manaus_landsat)"
   ]
  },
  {
   "cell_type": "markdown",
   "metadata": {},
   "source": [
    "### selecionando bandas específicas usando a função subset ou via indexação"
   ]
  },
  {
   "cell_type": "code",
   "execution_count": 23,
   "metadata": {
    "vscode": {
     "languageId": "r"
    }
   },
   "outputs": [],
   "source": [
    "sub_im1 <- subset(manaus_landsat_rast, 1:3)\n",
    "sub_im2 <- manaus_landsat_rast[[1:3]]"
   ]
  }
 ],
 "metadata": {
  "kernelspec": {
   "display_name": "R",
   "language": "R",
   "name": "ir"
  },
  "language_info": {
   "codemirror_mode": "r",
   "file_extension": ".r",
   "mimetype": "text/x-r-source",
   "name": "R",
   "pygments_lexer": "r",
   "version": "4.3.3"
  }
 },
 "nbformat": 4,
 "nbformat_minor": 2
}

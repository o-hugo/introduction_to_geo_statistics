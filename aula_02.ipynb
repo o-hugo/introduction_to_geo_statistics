{
 "cells": [
  {
   "cell_type": "code",
   "execution_count": null,
   "metadata": {},
   "outputs": [],
   "source": [
    "sf: principal pacote no R para dados vetoriais\n",
    "Criação e operação com objetos vetorias!"
   ]
  },
  {
   "cell_type": "code",
   "execution_count": null,
   "metadata": {},
   "outputs": [
    {
     "name": "stderr",
     "output_type": "stream",
     "text": [
      "also installing the dependency ‘s2’\n",
      "\n",
      "\n"
     ]
    }
   ],
   "source": [
    "#install.packages(\"sf\")\n",
    "# é necessário usar conda pra instalar essas bibliotecas sem problemas\n",
    "# conda activate r_env\n",
    "# conda install -c conda-forge r-sf"
   ]
  },
  {
   "cell_type": "code",
   "execution_count": null,
   "metadata": {},
   "outputs": [
    {
     "name": "stderr",
     "output_type": "stream",
     "text": [
      "Warning message:\n",
      "“package ‘units’ was built under R version 4.3.3”\n"
     ]
    },
    {
     "name": "stderr",
     "output_type": "stream",
     "text": [
      "udunits database from /home/huguinho/anaconda3/envs/r_env/share/udunits/udunits2.xml\n",
      "\n"
     ]
    },
    {
     "data": {
      "text/plain": [
       "Units: [m]\n",
       " [1]  1  2  3  4  5  6  7  8  9 10"
      ]
     },
     "metadata": {},
     "output_type": "display_data"
    }
   ],
   "source": [
    "library(units)\n",
    "x <- set_units(1:10, m)\n",
    "x"
   ]
  },
  {
   "cell_type": "markdown",
   "metadata": {},
   "source": [
    "A função st_point() cria pontos a partir de um vetor numéricos"
   ]
  },
  {
   "cell_type": "code",
   "execution_count": 3,
   "metadata": {},
   "outputs": [
    {
     "ename": "SyntaxError",
     "evalue": "invalid syntax (3689897039.py, line 2)",
     "output_type": "error",
     "traceback": [
      "  \u001b[36mCell\u001b[39m\u001b[36m \u001b[39m\u001b[32mIn[3]\u001b[39m\u001b[32m, line 2\u001b[39m\n\u001b[31m    \u001b[39m\u001b[31mclass(ponto)\u001b[39m\n         ^\n\u001b[31mSyntaxError\u001b[39m\u001b[31m:\u001b[39m invalid syntax\n"
     ]
    }
   ],
   "source": [
    "ponto <- st_point(c(5, 2))\n",
    "class(ponto)"
   ]
  }
 ],
 "metadata": {
  "kernelspec": {
   "display_name": "rstudio",
   "language": "python",
   "name": "python3"
  },
  "language_info": {
   "codemirror_mode": {
    "name": "ipython",
    "version": 3
   },
   "file_extension": ".py",
   "mimetype": "text/x-python",
   "name": "python",
   "nbconvert_exporter": "python",
   "pygments_lexer": "ipython3",
   "version": "3.11.11"
  }
 },
 "nbformat": 4,
 "nbformat_minor": 2
}
